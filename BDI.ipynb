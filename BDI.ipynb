{
 "cells": [
  {
   "cell_type": "code",
   "execution_count": 29,
   "metadata": {},
   "outputs": [],
   "source": [
    "import agentpy as ap\n",
    "import numpy as np\n",
    "import seaborn as sns\n",
    "import pandas as pd\n",
    "import random\n",
    "import matplotlib.pyplot as plt"
   ]
  },
  {
   "cell_type": "code",
   "execution_count": 30,
   "metadata": {},
   "outputs": [],
   "source": [
    "def gini(x):\n",
    "    \"\"\" Calcular el Coeficiente de Gini \"\"\"\n",
    "    x = np.array(x)\n",
    "    mad = np.abs(np.subtract.outer(x, x)).mean()  \n",
    "    rmad = mad / np.mean(x)  \n",
    "    return 0.5 * rmad\n",
    "\n",
    "class BaseWealthAgent(ap.Agent):\n",
    "    \"\"\" Agente base con riqueza \"\"\"\n",
    "    def setup(self):\n",
    "        self.wealth = 1\n",
    "        self.strategy_name = \"Base\"\n",
    "    \n",
    "    def wealth_transfer(self):\n",
    "        pass"
   ]
  },
  {
   "cell_type": "markdown",
   "metadata": {},
   "source": [
    "Hybrid Agent\n",
    "The HybridAgent class combines the best aspects of BDI (Belief-Desire-Intention), RiskTaker, and DeductiveReasoning strategies. It maintains beliefs about its state, desires to achieve goals, and intentions to perform actions. The agent exhibits risk-taking behavior by transferring wealth when it has sufficient resources and uses deductive reasoning to determine the best actions based on its beliefs and the environment. This hybrid approach enables the agent to make informed and strategic decisions, optimizing wealth transfer within the simulation."
   ]
  },
  {
   "cell_type": "code",
   "execution_count": 31,
   "metadata": {},
   "outputs": [],
   "source": [
    "class HybridAgent(BaseWealthAgent):\n",
    "    def setup(self):\n",
    "        super().setup()\n",
    "        self.strategy_name = \"Hybrid\"\n",
    "        self.wealth = 3\n",
    "        self.beliefs = {'wealth': self.wealth, 'partner': None}\n",
    "        self.desires = {'save_wealth': True}\n",
    "        self.intentions = []\n",
    "        self.actions = [self.wealth_transfer]\n",
    "        self.rules = [self.rule_1]\n",
    "\n",
    "    def update_beliefs(self):\n",
    "        self.beliefs['wealth'] = self.wealth\n",
    "\n",
    "    def generate_options(self):\n",
    "        options = []\n",
    "        if self.beliefs['wealth'] > 2:\n",
    "            options.append('transfer')\n",
    "        return options\n",
    "\n",
    "    def filter_options(self, options):\n",
    "        if 'transfer' in options:\n",
    "            self.intentions = ['transfer']\n",
    "        else:\n",
    "            self.intentions = []\n",
    "\n",
    "    def create_plan(self):\n",
    "        if 'transfer' in self.intentions:\n",
    "            partner = list(self.model.agents.random(n=1))[0]\n",
    "            return lambda: self.transfer_wealth(partner)\n",
    "        return lambda: None\n",
    "\n",
    "    def transfer_wealth(self, partner):\n",
    "        transfer = min(self.wealth - 1, 3)\n",
    "        partner.wealth += transfer\n",
    "        self.wealth -= transfer\n",
    "\n",
    "    def see(self, agents):\n",
    "        per = agents.random()\n",
    "        self.beliefs['partner'] = per\n",
    "\n",
    "    def next(self):\n",
    "        for act in self.actions:\n",
    "            for rule in self.rules:\n",
    "                if rule(act):\n",
    "                    return act\n",
    "        return None\n",
    "\n",
    "    def action(self, act):\n",
    "        if act is not None:\n",
    "            act()\n",
    "\n",
    "    def step(self):\n",
    "        self.update_beliefs()\n",
    "        options = self.generate_options()\n",
    "        self.filter_options(options)\n",
    "        plan = self.create_plan()\n",
    "        plan()\n",
    "        self.see(self.model.agents)\n",
    "        a = self.next()\n",
    "        self.action(a)\n",
    "\n",
    "    def rule_1(self, act):\n",
    "        rule_validation = [False, False, False]\n",
    "        if self.wealth > 0:\n",
    "            rule_validation[0] = True\n",
    "        if self.beliefs[\"partner\"] is not None:\n",
    "            rule_validation[1] = True\n",
    "        if act == self.wealth_transfer:\n",
    "            rule_validation[2] = True\n",
    "        return all(rule_validation)\n",
    "\n",
    "    def wealth_transfer(self):\n",
    "        if self.beliefs['partner'] is not None:\n",
    "            self.beliefs['partner'].wealth += 1\n",
    "            self.wealth -= 1\n"
   ]
  },
  {
   "cell_type": "code",
   "execution_count": 32,
   "metadata": {},
   "outputs": [],
   "source": [
    "class BDIAgent(BaseWealthAgent):\n",
    "    def setup(self):\n",
    "        super().setup()\n",
    "        self.strategy_name = \"BDI\"\n",
    "        self.wealth = 2\n",
    "        self.beliefs = {'wealth': self.wealth}\n",
    "        self.desires = {'save_wealth': True}\n",
    "        self.intentions = []\n",
    "\n",
    "    def update_beliefs(self):\n",
    "        # Update beliefs based on current wealth\n",
    "        self.beliefs['wealth'] = self.wealth\n",
    "\n",
    "    def generate_options(self):\n",
    "        # Generate possible options based on beliefs and desires\n",
    "        options = []\n",
    "        if self.beliefs['wealth'] > 2:\n",
    "            options.append('transfer')\n",
    "        return options\n",
    "\n",
    "    def filter_options(self, options):\n",
    "        # Filter options to form intentions\n",
    "        if 'transfer' in options:\n",
    "            self.intentions = ['transfer']\n",
    "        else:\n",
    "            self.intentions = []\n",
    "\n",
    "    def create_plan(self):\n",
    "        # Create a plan based on intentions\n",
    "        if 'transfer' in self.intentions:\n",
    "            partner = list(self.model.agents.random(n=1))[0]\n",
    "            return lambda: self.transfer_wealth(partner)\n",
    "        return lambda: None\n",
    "\n",
    "    def transfer_wealth(self, partner):\n",
    "        partner.wealth += 1\n",
    "        self.wealth -= 1\n",
    "\n",
    "    def wealth_transfer(self):\n",
    "        self.update_beliefs()\n",
    "        options = self.generate_options()\n",
    "        self.filter_options(options)\n",
    "        plan = self.create_plan()\n",
    "        plan()"
   ]
  },
  {
   "cell_type": "code",
   "execution_count": 33,
   "metadata": {},
   "outputs": [],
   "source": [
    "class RiskTakingAgent(BaseWealthAgent):\n",
    "    def setup(self):\n",
    "        super().setup()\n",
    "        self.strategy_name = \"RiskTaker\"\n",
    "        self.wealth = 4  \n",
    "    \n",
    "    def wealth_transfer(self):\n",
    "        if self.wealth > 2:\n",
    "            partner = list(self.model.agents.random(n=1))[0]\n",
    "            transfer = min(self.wealth - 1, 3)  \n",
    "            partner.wealth += transfer\n",
    "            self.wealth -= transfer"
   ]
  },
  {
   "cell_type": "code",
   "execution_count": 34,
   "metadata": {},
   "outputs": [],
   "source": [
    "class DeductiveReasoningAgent(BaseWealthAgent):\n",
    "    def setup(self):\n",
    "        super().setup()\n",
    "        self.strategy_name = \"DeductiveReasoning\"\n",
    "        self.beliefs = {'partner': None}\n",
    "        self.actions = [self.wealth_transfer]\n",
    "        self.rules = [self.rule_1]\n",
    "\n",
    "    def see(self, agents):\n",
    "        per = agents.random()\n",
    "        self.beliefs['partner'] = per\n",
    "\n",
    "    def next(self):\n",
    "        for act in self.actions:\n",
    "            for rule in self.rules:\n",
    "                if rule(act):\n",
    "                    return act\n",
    "        return None\n",
    "\n",
    "    def action(self, act):\n",
    "        if act is not None:\n",
    "            act()\n",
    "\n",
    "    def step(self):\n",
    "        self.see(self.model.agents)\n",
    "        a = self.next()\n",
    "        self.action(a)\n",
    "\n",
    "    def rule_1(self, act):\n",
    "        rule_validation = [False, False, False]\n",
    "        if self.wealth > 0:\n",
    "            rule_validation[0] = True\n",
    "        if self.beliefs[\"partner\"] is not None:\n",
    "            rule_validation[1] = True\n",
    "        if act == self.wealth_transfer:\n",
    "            rule_validation[2] = True\n",
    "        return all(rule_validation)\n",
    "\n",
    "    def wealth_transfer(self):\n",
    "        if self.beliefs['partner'] is not None:\n",
    "            self.beliefs['partner'].wealth += 1\n",
    "            self.wealth -= 1"
   ]
  },
  {
   "cell_type": "code",
   "execution_count": 35,
   "metadata": {},
   "outputs": [],
   "source": [
    "class WealthModel(ap.Model):\n",
    "    \"\"\" Un modelo de transferencias de riqueza entre diferentes estrategias de agentes \"\"\"\n",
    "    \n",
    "    def setup(self):\n",
    "        # Crear una lista de agentes basada en los parámetros del modelo\n",
    "        self.agents = ap.AgentList(self, self.p.agents['BDI'], BDIAgent) + \\\n",
    "                      ap.AgentList(self, self.p.agents['RiskTaker'], RiskTakingAgent) + \\\n",
    "                      ap.AgentList(self, self.p.agents['Hybrid'], HybridAgent) + \\\n",
    "                      ap.AgentList(self, self.p.agents['DeductiveReasoning'], DeductiveReasoningAgent)\n",
    "\n",
    "    def step(self):\n",
    "        # Cada agente realiza una transferencia de riqueza\n",
    "        self.agents.wealth_transfer()\n",
    "\n",
    "    def update(self):\n",
    "        # Calcular el Coeficiente de Gini para la distribución de riqueza actual\n",
    "        wealths = [agent.wealth for agent in self.agents]\n",
    "        self.record('Gini Coefficient', gini(wealths))\n",
    "\n",
    "    def end(self):\n",
    "        # Registrar la riqueza final de cada agente\n",
    "        self.agents.record('wealth')"
   ]
  },
  {
   "cell_type": "code",
   "execution_count": 36,
   "metadata": {},
   "outputs": [],
   "source": [
    "# Parámetros del Modelo\n",
    "parameters = {\n",
    "    'agents': {\n",
    "        'BDI': 10,\n",
    "        'RiskTaker': 10,\n",
    "        'DeductiveReasoning': 10,\n",
    "        'Hybrid': 10,\n",
    "    },\n",
    "    'steps': 100,\n",
    "    'seed': 42,\n",
    "}\n"
   ]
  },
  {
   "cell_type": "code",
   "execution_count": 37,
   "metadata": {},
   "outputs": [
    {
     "name": "stdout",
     "output_type": "stream",
     "text": [
      "Completed: 100 steps\n",
      "Run time: 0:00:00.034253\n",
      "Simulation finished\n"
     ]
    }
   ],
   "source": [
    "# Correr el Modelo\n",
    "model = WealthModel(parameters)\n",
    "results = model.run()\n"
   ]
  },
  {
   "cell_type": "code",
   "execution_count": 38,
   "metadata": {},
   "outputs": [
    {
     "data": {
      "image/png": "[encoded data removed]",
      "text/plain": [
       "<Figure size 640x480 with 1 Axes>"
      ]
     },
     "metadata": {},
     "output_type": "display_data"
    }
   ],
   "source": [
    "# Visualización de Resultados\n",
    "data = results.variables.WealthModel\n",
    "ax = data.plot()"
   ]
  },
  {
   "cell_type": "markdown",
   "metadata": {},
   "source": [
    "Evolución de la Desigualdad Económica en el Modelo de Distribución de Riqueza Multi-Agente\n",
    "\n",
    "Este gráfico muestra la evolución del coeficiente de Gini a lo largo de los 100 pasos de la simulación. El coeficiente de Gini mide la desigualdad de la riqueza (0 significa igualdad perfecta, 1 significa desigualdad perfecta). Del gráfico se observa:\n",
    "\n",
    "El coeficiente comienza relativamente bajo (alrededor de 0.25)\n",
    "Hay un pico inicial y volatilidad en los primeros pasos (alrededor del paso 20)\n",
    "El coeficiente se estabiliza en alrededor de 0.32, indicando un nivel moderado de desigualdad\n",
    "La línea relativamente estable después de la volatilidad inicial sugiere que el sistema alcanza un estado de equilibrio"
   ]
  },
  {
   "cell_type": "code",
   "execution_count": 39,
   "metadata": {},
   "outputs": [],
   "source": [
    "# Extraer datos de riqueza y tipo de agente después de la simulación\n",
    "agent_data = [(agent.strategy_name, agent.wealth) for agent in model.agents]\n",
    "df = pd.DataFrame(agent_data, columns=[\"Agent Type\", \"Wealth\"])\n"
   ]
  },
  {
   "cell_type": "code",
   "execution_count": 40,
   "metadata": {},
   "outputs": [
    {
     "data": {
      "image/png": "[encoded data removed]",
      "text/plain": [
       "<Figure size 1000x600 with 1 Axes>"
      ]
     },
     "metadata": {},
     "output_type": "display_data"
    }
   ],
   "source": [
    "# Crear histograma de la distribución de riqueza por tipo de agente\n",
    "plt.figure(figsize=(10, 6))\n",
    "sns.histplot(data=df, x=\"Wealth\", hue=\"Agent Type\", multiple=\"dodge\", binwidth=1)\n",
    "plt.title(\"Distribución de Riqueza por Tipo de Agente\")\n",
    "plt.xlabel(\"Riqueza\")\n",
    "plt.ylabel(\"Cantidad de Agentes\")\n",
    "plt.show()\n"
   ]
  },
  {
   "cell_type": "markdown",
   "metadata": {},
   "source": [
    "Comparación de Estrategias de Agentes en la Acumulación de Riqueza\n",
    "\n",
    "Este histograma muestra cómo se distribuye la riqueza entre los diferentes tipos de agentes (BDI, RiskTaker, Hybrid y DeductiveReasoning). Observaciones notables:\n",
    "\n",
    "Agentes RiskTaker (Naranja):\n",
    "\n",
    "Muestran una distribución bimodal\n",
    "Algunos tienen baja riqueza (1-2 unidades)\n",
    "Otros mantienen niveles de riqueza más altos\n",
    "Esto se alinea con su estrategia de toma de riesgos\n",
    "Agentes BDI (Azul):\n",
    "\n",
    "Tienen la mayor concentración en el nivel de riqueza 2\n",
    "Muestran una distribución de riqueza más conservadora\n",
    "Esto coincide con su enfoque de toma de decisiones más cauteloso\n",
    "Agentes Hybrid (Rojo):\n",
    "\n",
    "Muestran una dispersión a través de diferentes niveles de riqueza\n",
    "Tienen algunos agentes en niveles de riqueza bajos y medios\n",
    "Demuestra su enfoque de estrategia mixta\n",
    "Agentes DeductiveReasoning (Verde):\n",
    "\n",
    "Más uniformemente distribuidos en niveles de riqueza de 3 a 7\n",
    "Muestran una presencia constante en niveles de riqueza más altos\n",
    "Sugiere que su enfoque de razonamiento ayuda a mantener la riqueza"
   ]
  }
 ],
 "metadata": {
  "kernelspec": {
   "display_name": "myven",
   "language": "python",
   "name": "python3"
  },
  "language_info": {
   "codemirror_mode": {
    "name": "ipython",
    "version": 3
   },
   "file_extension": ".py",
   "mimetype": "text/x-python",
   "name": "python",
   "nbconvert_exporter": "python",
   "pygments_lexer": "ipython3",
   "version": "3.12.3"
  }
 },
 "nbformat": 4,
 "nbformat_minor": 2
}
